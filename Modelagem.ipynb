{
 "cells": [
  {
   "cell_type": "code",
   "execution_count": 3,
   "id": "ad752049",
   "metadata": {},
   "outputs": [],
   "source": [
    "import pandas as pd\n",
    "from sklearn.preprocessing import MinMaxScaler\n",
    "from sklearn.linear_model import LinearRegression\n",
    "import xgboost as xgb"
   ]
  },
  {
   "cell_type": "code",
   "execution_count": 1,
   "id": "6f8a5ee8",
   "metadata": {},
   "outputs": [],
   "source": [
    "#Transformação usada para que as variáveis categóricas virem numéricas\n",
    "#Foram usados 0s e 1s para transformar as variáveis que só tinham duas opções\n",
    "#Para as variáveis com até 7 opções foi usada a transformação binária usando variáveis dummies\n",
    "#Para as variáveis com mais que 7 valores únicos foi usada frequency encoding.\n",
    "def encoding(df):\n",
    "    for c in var_cat.columns:\n",
    "        if(c=='blindado'):\n",
    "            df[c] = df[c].apply(lambda x: 1 if x=='S' else 0)\n",
    "        elif(c=='tipo_vendedor'):\n",
    "            df[c] = df[c].apply(lambda x: 1 if x=='PJ' else 0)\n",
    "        elif(c=='entrega_delivery'):\n",
    "            df[c] = df[c].apply(lambda x: 1 if x==True else 0)\n",
    "        elif(c=='troca'):\n",
    "            df[c] = df[c].apply(lambda x: 1 if x==True else 0)\n",
    "        elif(c=='cambio' or c=='tipo' or c=='cor' or c=='anunciante'):\n",
    "            df = pd.get_dummies(df, prefix=c, columns=[c])\n",
    "        else:\n",
    "            freq_dict = df[c].value_counts(normalize=True).to_dict()\n",
    "            df[c] = df[c].map(freq_dict)\n",
    "    return df"
   ]
  },
  {
   "cell_type": "code",
   "execution_count": null,
   "id": "c8b60662",
   "metadata": {},
   "outputs": [],
   "source": [
    "df3 = df3[(df3['ano_de_fabricacao']>=2008) & (df3['ano_modelo']>=2010) & (df3['hodometro']<=158000)]"
   ]
  },
  {
   "cell_type": "code",
   "execution_count": null,
   "id": "d1653642",
   "metadata": {},
   "outputs": [],
   "source": [
    "mms = MinMaxScaler()\n",
    "for c in var_num.columns:\n",
    "    df3[c] = mms.fit_transform(df3[[c]].values)"
   ]
  },
  {
   "cell_type": "code",
   "execution_count": null,
   "id": "0df8d2dc",
   "metadata": {},
   "outputs": [],
   "source": [
    "model_lr = LinearRegression()\n",
    "xgb_model = xgb.XGBRegressor(n_estimators=500)"
   ]
  }
 ],
 "metadata": {
  "kernelspec": {
   "display_name": "Python 3 (ipykernel)",
   "language": "python",
   "name": "python3"
  },
  "language_info": {
   "codemirror_mode": {
    "name": "ipython",
    "version": 3
   },
   "file_extension": ".py",
   "mimetype": "text/x-python",
   "name": "python",
   "nbconvert_exporter": "python",
   "pygments_lexer": "ipython3",
   "version": "3.9.13"
  }
 },
 "nbformat": 4,
 "nbformat_minor": 5
}
